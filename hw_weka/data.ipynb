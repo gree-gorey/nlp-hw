{
 "cells": [
  {
   "cell_type": "code",
   "execution_count": 6,
   "metadata": {
    "collapsed": false
   },
   "outputs": [],
   "source": [
    "import pandas as pd\n",
    "\n",
    "from pymystem3 import Mystem"
   ]
  },
  {
   "cell_type": "code",
   "execution_count": 80,
   "metadata": {
    "collapsed": true
   },
   "outputs": [],
   "source": [
    "df = pd.read_csv('n.tsv', sep='\\t')"
   ]
  },
  {
   "cell_type": "code",
   "execution_count": 81,
   "metadata": {
    "collapsed": false
   },
   "outputs": [
    {
     "data": {
      "text/html": [
       "<div>\n",
       "<table border=\"1\" class=\"dataframe\">\n",
       "  <thead>\n",
       "    <tr style=\"text-align: right;\">\n",
       "      <th></th>\n",
       "      <th>Left context</th>\n",
       "      <th>Center</th>\n",
       "      <th>Class</th>\n",
       "      <th>Right context</th>\n",
       "    </tr>\n",
       "  </thead>\n",
       "  <tbody>\n",
       "    <tr>\n",
       "      <th>0</th>\n",
       "      <td>критериев и желаний на мужской</td>\n",
       "      <td>язык</td>\n",
       "      <td>5</td>\n",
       "      <td>не переводится…</td>\n",
       "    </tr>\n",
       "    <tr>\n",
       "      <th>1</th>\n",
       "      <td>Дети понимают, зачем они учат</td>\n",
       "      <td>язык</td>\n",
       "      <td>3</td>\n",
       "      <td>приобретают опыт общения со сверстниками</td>\n",
       "    </tr>\n",
       "    <tr>\n",
       "      <th>2</th>\n",
       "      <td>возможности его уволят, хотя и</td>\n",
       "      <td>язык</td>\n",
       "      <td>4</td>\n",
       "      <td>на уровне, и человек хороший</td>\n",
       "    </tr>\n",
       "    <tr>\n",
       "      <th>3</th>\n",
       "      <td>в необразовательных учреждениях, где это (</td>\n",
       "      <td>язык</td>\n",
       "      <td>4</td>\n",
       "      <td>особенно) требуется.</td>\n",
       "    </tr>\n",
       "    <tr>\n",
       "      <th>4</th>\n",
       "      <td>годом набирает обороты специальность «Русский</td>\n",
       "      <td>язык</td>\n",
       "      <td>3</td>\n",
       "      <td>как иностранный» (РКИ).</td>\n",
       "    </tr>\n",
       "  </tbody>\n",
       "</table>\n",
       "</div>"
      ],
      "text/plain": [
       "                                      Left context  Center  Class  \\\n",
       "0                  критериев и желаний на мужской    язык       5   \n",
       "1                   Дети понимают, зачем они учат    язык       3   \n",
       "2                  возможности его уволят, хотя и    язык       4   \n",
       "3       в необразовательных учреждениях, где это (   язык       4   \n",
       "4   годом набирает обороты специальность «Русский    язык       3   \n",
       "\n",
       "                               Right context  \n",
       "0                          не переводится…    \n",
       "1  приобретают опыт общения со сверстниками   \n",
       "2              на уровне, и человек хороший   \n",
       "3                     особенно) требуется.    \n",
       "4                  как иностранный» (РКИ).    "
      ]
     },
     "execution_count": 81,
     "metadata": {},
     "output_type": "execute_result"
    }
   ],
   "source": [
    "df.head()"
   ]
  },
  {
   "cell_type": "code",
   "execution_count": 82,
   "metadata": {
    "collapsed": true
   },
   "outputs": [],
   "source": [
    "m = Mystem()"
   ]
  },
  {
   "cell_type": "code",
   "execution_count": 105,
   "metadata": {
    "collapsed": true
   },
   "outputs": [],
   "source": [
    "def get_left_word(text_in):\n",
    "    tokens = analysis = m.analyze(text_in)\n",
    "    for token in analysis[::-1]:\n",
    "        if token.get('analysis'):\n",
    "            return token['analysis'][0]['lex']\n",
    "    return '?'"
   ]
  },
  {
   "cell_type": "code",
   "execution_count": 106,
   "metadata": {
    "collapsed": true
   },
   "outputs": [],
   "source": [
    "def get_right_word(text_in):\n",
    "    tokens = analysis = m.analyze(text_in)\n",
    "    for token in analysis:\n",
    "        if token.get('analysis'):\n",
    "            return token['analysis'][0]['lex']\n",
    "    return '?'"
   ]
  },
  {
   "cell_type": "code",
   "execution_count": 107,
   "metadata": {
    "collapsed": false
   },
   "outputs": [],
   "source": [
    "df['left word'] = df['Left context'].map(lambda text: get_left_word(text))"
   ]
  },
  {
   "cell_type": "code",
   "execution_count": 108,
   "metadata": {
    "collapsed": true
   },
   "outputs": [],
   "source": [
    "df['right word'] = df['Right context'].map(lambda text: get_right_word(text))"
   ]
  },
  {
   "cell_type": "code",
   "execution_count": 109,
   "metadata": {
    "collapsed": true
   },
   "outputs": [],
   "source": [
    "def get_left_pos(text_in):\n",
    "    tokens = analysis = m.analyze(text_in)\n",
    "    for token in analysis[::-1]:\n",
    "        if token.get('analysis'):\n",
    "            return token.get('analysis')[0]['gr'].split('=')[0].split(',')[0]\n",
    "    return '?'"
   ]
  },
  {
   "cell_type": "code",
   "execution_count": 110,
   "metadata": {
    "collapsed": true
   },
   "outputs": [],
   "source": [
    "def get_right_pos(text_in):\n",
    "    tokens = analysis = m.analyze(text_in)\n",
    "    for token in analysis:\n",
    "        if token.get('analysis'):\n",
    "            return token.get('analysis')[0]['gr'].split('=')[0].split(',')[0]\n",
    "    return '?'"
   ]
  },
  {
   "cell_type": "code",
   "execution_count": 111,
   "metadata": {
    "collapsed": true
   },
   "outputs": [],
   "source": [
    "df['left pos'] = df['Left context'].map(lambda text: get_left_pos(text))"
   ]
  },
  {
   "cell_type": "code",
   "execution_count": 112,
   "metadata": {
    "collapsed": true
   },
   "outputs": [],
   "source": [
    "df['right pos'] = df['Right context'].map(lambda text: get_right_pos(text))"
   ]
  },
  {
   "cell_type": "code",
   "execution_count": 115,
   "metadata": {
    "collapsed": false
   },
   "outputs": [
    {
     "data": {
      "text/html": [
       "<div>\n",
       "<table border=\"1\" class=\"dataframe\">\n",
       "  <thead>\n",
       "    <tr style=\"text-align: right;\">\n",
       "      <th></th>\n",
       "      <th>Left context</th>\n",
       "      <th>Center</th>\n",
       "      <th>Class</th>\n",
       "      <th>Right context</th>\n",
       "      <th>left word</th>\n",
       "      <th>right word</th>\n",
       "      <th>left pos</th>\n",
       "      <th>right pos</th>\n",
       "    </tr>\n",
       "  </thead>\n",
       "  <tbody>\n",
       "    <tr>\n",
       "      <th>0</th>\n",
       "      <td>критериев и желаний на мужской</td>\n",
       "      <td>язык</td>\n",
       "      <td>5</td>\n",
       "      <td>не переводится…</td>\n",
       "      <td>мужской</td>\n",
       "      <td>не</td>\n",
       "      <td>A</td>\n",
       "      <td>PART</td>\n",
       "    </tr>\n",
       "    <tr>\n",
       "      <th>1</th>\n",
       "      <td>Дети понимают, зачем они учат</td>\n",
       "      <td>язык</td>\n",
       "      <td>3</td>\n",
       "      <td>приобретают опыт общения со сверстниками</td>\n",
       "      <td>учить</td>\n",
       "      <td>приобретать</td>\n",
       "      <td>V</td>\n",
       "      <td>V</td>\n",
       "    </tr>\n",
       "    <tr>\n",
       "      <th>2</th>\n",
       "      <td>возможности его уволят, хотя и</td>\n",
       "      <td>язык</td>\n",
       "      <td>4</td>\n",
       "      <td>на уровне, и человек хороший</td>\n",
       "      <td>и</td>\n",
       "      <td>на</td>\n",
       "      <td>CONJ</td>\n",
       "      <td>PR</td>\n",
       "    </tr>\n",
       "    <tr>\n",
       "      <th>3</th>\n",
       "      <td>в необразовательных учреждениях, где это (</td>\n",
       "      <td>язык</td>\n",
       "      <td>4</td>\n",
       "      <td>особенно) требуется.</td>\n",
       "      <td>это</td>\n",
       "      <td>особенно</td>\n",
       "      <td>SPRO</td>\n",
       "      <td>ADV</td>\n",
       "    </tr>\n",
       "    <tr>\n",
       "      <th>4</th>\n",
       "      <td>годом набирает обороты специальность «Русский</td>\n",
       "      <td>язык</td>\n",
       "      <td>3</td>\n",
       "      <td>как иностранный» (РКИ).</td>\n",
       "      <td>русский</td>\n",
       "      <td>как</td>\n",
       "      <td>S</td>\n",
       "      <td>CONJ</td>\n",
       "    </tr>\n",
       "  </tbody>\n",
       "</table>\n",
       "</div>"
      ],
      "text/plain": [
       "                                      Left context  Center  Class  \\\n",
       "0                  критериев и желаний на мужской    язык       5   \n",
       "1                   Дети понимают, зачем они учат    язык       3   \n",
       "2                  возможности его уволят, хотя и    язык       4   \n",
       "3       в необразовательных учреждениях, где это (   язык       4   \n",
       "4   годом набирает обороты специальность «Русский    язык       3   \n",
       "\n",
       "                               Right context left word   right word left pos  \\\n",
       "0                          не переводится…     мужской           не        A   \n",
       "1  приобретают опыт общения со сверстниками      учить  приобретать        V   \n",
       "2              на уровне, и человек хороший          и           на     CONJ   \n",
       "3                     особенно) требуется.         это     особенно     SPRO   \n",
       "4                  как иностранный» (РКИ).     русский          как        S   \n",
       "\n",
       "  right pos  \n",
       "0      PART  \n",
       "1         V  \n",
       "2        PR  \n",
       "3       ADV  \n",
       "4      CONJ  "
      ]
     },
     "execution_count": 115,
     "metadata": {},
     "output_type": "execute_result"
    }
   ],
   "source": [
    "df.head()"
   ]
  },
  {
   "cell_type": "code",
   "execution_count": 59,
   "metadata": {
    "collapsed": false
   },
   "outputs": [],
   "source": [
    "analysis = m.analyze(\"Дети понимают, зачем они учат\")"
   ]
  },
  {
   "cell_type": "code",
   "execution_count": 61,
   "metadata": {
    "collapsed": false
   },
   "outputs": [
    {
     "name": "stdout",
     "output_type": "stream",
     "text": [
      "Дети S {'analysis': [{'gr': 'S,муж,од=им,мн', 'lex': 'ребенок'}], 'text': 'Дети'}\n",
      "понимают V {'analysis': [{'gr': 'V=непрош,мн,изъяв,3-л,несов,пе', 'lex': 'понимать'}], 'text': 'понимают'}\n",
      "зачем ADVPRO {'analysis': [{'gr': 'ADVPRO=', 'lex': 'зачем'}], 'text': 'зачем'}\n",
      "они SPRO {'analysis': [{'gr': 'SPRO,мн=им', 'lex': 'они'}], 'text': 'они'}\n",
      "учат V {'analysis': [{'gr': 'V,несов,пе=непрош,мн,изъяв,3-л', 'lex': 'учить'}], 'text': 'учат'}\n"
     ]
    }
   ],
   "source": [
    "for token in analysis:\n",
    "    if token.get('analysis'):\n",
    "        print(token['text'], token.get('analysis')[0]['gr'].split('=')[0].split(',')[0], token)"
   ]
  },
  {
   "cell_type": "code",
   "execution_count": 114,
   "metadata": {
    "collapsed": true
   },
   "outputs": [],
   "source": [
    "df.to_csv('out.csv')"
   ]
  },
  {
   "cell_type": "code",
   "execution_count": 104,
   "metadata": {
    "collapsed": true
   },
   "outputs": [],
   "source": [
    "df.to_json('foo.json')"
   ]
  }
 ],
 "metadata": {
  "kernelspec": {
   "display_name": "Python 3",
   "language": "python",
   "name": "python3"
  },
  "language_info": {
   "codemirror_mode": {
    "name": "ipython",
    "version": 3
   },
   "file_extension": ".py",
   "mimetype": "text/x-python",
   "name": "python",
   "nbconvert_exporter": "python",
   "pygments_lexer": "ipython3",
   "version": "3.5.2"
  }
 },
 "nbformat": 4,
 "nbformat_minor": 2
}
