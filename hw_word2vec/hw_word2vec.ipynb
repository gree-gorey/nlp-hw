{
 "cells": [
  {
   "cell_type": "code",
   "execution_count": 104,
   "metadata": {
    "collapsed": false
   },
   "outputs": [],
   "source": [
    "import os\n",
    "\n",
    "import gensim\n",
    "import pymorphy2\n",
    "import numpy as np\n",
    "import pandas as pd\n",
    "\n",
    "from sklearn.model_selection import train_test_split\n",
    "from sklearn.metrics import f1_score, accuracy_score\n",
    "from sklearn.naive_bayes import MultinomialNB\n",
    "from sklearn.ensemble import RandomForestClassifier\n",
    "from sklearn.linear_model import LogisticRegression"
   ]
  },
  {
   "cell_type": "markdown",
   "metadata": {},
   "source": [
    "Делаем пайморфи который приведет все к леммам и припишет POS"
   ]
  },
  {
   "cell_type": "code",
   "execution_count": 105,
   "metadata": {
    "collapsed": true
   },
   "outputs": [],
   "source": [
    "morph = pymorphy2.MorphAnalyzer()\n",
    "def normalize_and_add_pos(word):\n",
    "    p = morph.parse(word)[0]\n",
    "    return '{}_{}'.format(\n",
    "        p.normal_form,\n",
    "        p.tag.POS\n",
    "    )"
   ]
  },
  {
   "cell_type": "markdown",
   "metadata": {},
   "source": [
    "Загружаем модель семантики"
   ]
  },
  {
   "cell_type": "code",
   "execution_count": 106,
   "metadata": {
    "collapsed": false
   },
   "outputs": [],
   "source": [
    "m = 'ruwikiruscorpora_0_300_20.bin.gz'\n",
    "model = gensim.models.KeyedVectors.load_word2vec_format(m, binary=True)"
   ]
  },
  {
   "cell_type": "code",
   "execution_count": 36,
   "metadata": {
    "collapsed": true
   },
   "outputs": [],
   "source": [
    "def read_txt(path):\n",
    "    for root, dirs, files in os.walk(path):\n",
    "        for filename in files:\n",
    "            open_name = os.path.join(root, filename)\n",
    "            with open(open_name, 'r', encoding='utf-8') as f:\n",
    "                text = f.read()\n",
    "                yield text"
   ]
  },
  {
   "cell_type": "markdown",
   "metadata": {},
   "source": [
    "Обходим тексты и для каждого считаем средний вектор из векторов слов"
   ]
  },
  {
   "cell_type": "code",
   "execution_count": 60,
   "metadata": {
    "collapsed": false
   },
   "outputs": [],
   "source": [
    "anekdots_texts = []\n",
    "for text in read_txt('anekdots'):\n",
    "    text_vectors = []\n",
    "    words = text.split()\n",
    "    for word in words:\n",
    "        norm_word = normalize_and_add_pos(word)\n",
    "        if norm_word in model:\n",
    "            text_vectors.append(model[norm_word])\n",
    "    mean_vector = sum(text_vectors) / len(text_vectors)\n",
    "    anekdots_texts.append(mean_vector)"
   ]
  },
  {
   "cell_type": "code",
   "execution_count": 64,
   "metadata": {
    "collapsed": false
   },
   "outputs": [],
   "source": [
    "izvest_texts = []\n",
    "for text in read_txt('izvest'):\n",
    "    text_vectors = []\n",
    "    words = text.split()\n",
    "    for word in words:\n",
    "        norm_word = normalize_and_add_pos(word)\n",
    "        if norm_word in model:\n",
    "            text_vectors.append(model[norm_word])\n",
    "    mean_vector = sum(text_vectors) / len(text_vectors)\n",
    "    izvest_texts.append(mean_vector)"
   ]
  },
  {
   "cell_type": "code",
   "execution_count": 66,
   "metadata": {
    "collapsed": false
   },
   "outputs": [],
   "source": [
    "teh_mol_texts = []\n",
    "for text in read_txt('teh_mol'):\n",
    "    text_vectors = []\n",
    "    words = text.split()\n",
    "    for word in words:\n",
    "        norm_word = normalize_and_add_pos(word)\n",
    "        if norm_word in model:\n",
    "            text_vectors.append(model[norm_word])\n",
    "    mean_vector = sum(text_vectors) / len(text_vectors)\n",
    "    teh_mol_texts.append(mean_vector)"
   ]
  },
  {
   "cell_type": "markdown",
   "metadata": {},
   "source": [
    "Делаем датафрейм"
   ]
  },
  {
   "cell_type": "code",
   "execution_count": 77,
   "metadata": {
    "collapsed": true
   },
   "outputs": [],
   "source": [
    "data = [vec for vec in anekdots_texts] + [vec for vec in izvest_texts] + [vec for vec in teh_mol_texts]\n",
    "df = pd.DataFrame.from_records(data)"
   ]
  },
  {
   "cell_type": "code",
   "execution_count": 85,
   "metadata": {
    "collapsed": false
   },
   "outputs": [
    {
     "data": {
      "text/html": [
       "<div>\n",
       "<table border=\"1\" class=\"dataframe\">\n",
       "  <thead>\n",
       "    <tr style=\"text-align: right;\">\n",
       "      <th></th>\n",
       "      <th>0</th>\n",
       "      <th>1</th>\n",
       "      <th>2</th>\n",
       "      <th>3</th>\n",
       "      <th>4</th>\n",
       "      <th>5</th>\n",
       "      <th>6</th>\n",
       "      <th>7</th>\n",
       "      <th>8</th>\n",
       "      <th>9</th>\n",
       "      <th>...</th>\n",
       "      <th>291</th>\n",
       "      <th>292</th>\n",
       "      <th>293</th>\n",
       "      <th>294</th>\n",
       "      <th>295</th>\n",
       "      <th>296</th>\n",
       "      <th>297</th>\n",
       "      <th>298</th>\n",
       "      <th>299</th>\n",
       "      <th>class</th>\n",
       "    </tr>\n",
       "  </thead>\n",
       "  <tbody>\n",
       "    <tr>\n",
       "      <th>0</th>\n",
       "      <td>-0.005327</td>\n",
       "      <td>-0.002550</td>\n",
       "      <td>-0.012691</td>\n",
       "      <td>0.015691</td>\n",
       "      <td>0.009480</td>\n",
       "      <td>-0.000163</td>\n",
       "      <td>0.007628</td>\n",
       "      <td>-0.023825</td>\n",
       "      <td>0.010015</td>\n",
       "      <td>0.004410</td>\n",
       "      <td>...</td>\n",
       "      <td>0.003710</td>\n",
       "      <td>0.023587</td>\n",
       "      <td>0.014549</td>\n",
       "      <td>0.002639</td>\n",
       "      <td>0.012199</td>\n",
       "      <td>0.020589</td>\n",
       "      <td>0.017731</td>\n",
       "      <td>-0.013880</td>\n",
       "      <td>-0.003637</td>\n",
       "      <td>anekdot</td>\n",
       "    </tr>\n",
       "    <tr>\n",
       "      <th>1</th>\n",
       "      <td>-0.000636</td>\n",
       "      <td>-0.022139</td>\n",
       "      <td>0.006247</td>\n",
       "      <td>0.015691</td>\n",
       "      <td>0.007062</td>\n",
       "      <td>0.021689</td>\n",
       "      <td>0.003270</td>\n",
       "      <td>-0.011606</td>\n",
       "      <td>0.003766</td>\n",
       "      <td>0.015540</td>\n",
       "      <td>...</td>\n",
       "      <td>0.045119</td>\n",
       "      <td>0.013040</td>\n",
       "      <td>-0.001982</td>\n",
       "      <td>0.008188</td>\n",
       "      <td>0.020509</td>\n",
       "      <td>0.004625</td>\n",
       "      <td>0.045025</td>\n",
       "      <td>-0.031724</td>\n",
       "      <td>-0.003661</td>\n",
       "      <td>anekdot</td>\n",
       "    </tr>\n",
       "    <tr>\n",
       "      <th>2</th>\n",
       "      <td>-0.020983</td>\n",
       "      <td>-0.024008</td>\n",
       "      <td>0.007685</td>\n",
       "      <td>0.018271</td>\n",
       "      <td>0.007318</td>\n",
       "      <td>0.033143</td>\n",
       "      <td>0.023785</td>\n",
       "      <td>-0.006739</td>\n",
       "      <td>-0.007860</td>\n",
       "      <td>-0.002580</td>\n",
       "      <td>...</td>\n",
       "      <td>0.045904</td>\n",
       "      <td>0.012120</td>\n",
       "      <td>-0.019283</td>\n",
       "      <td>0.015308</td>\n",
       "      <td>-0.005188</td>\n",
       "      <td>-0.009700</td>\n",
       "      <td>0.009690</td>\n",
       "      <td>-0.025878</td>\n",
       "      <td>-0.007407</td>\n",
       "      <td>anekdot</td>\n",
       "    </tr>\n",
       "    <tr>\n",
       "      <th>3</th>\n",
       "      <td>-0.004453</td>\n",
       "      <td>-0.028444</td>\n",
       "      <td>0.007522</td>\n",
       "      <td>0.014499</td>\n",
       "      <td>0.020345</td>\n",
       "      <td>0.012675</td>\n",
       "      <td>0.006424</td>\n",
       "      <td>-0.008916</td>\n",
       "      <td>-0.002845</td>\n",
       "      <td>0.025336</td>\n",
       "      <td>...</td>\n",
       "      <td>0.019075</td>\n",
       "      <td>0.016369</td>\n",
       "      <td>-0.000082</td>\n",
       "      <td>0.012354</td>\n",
       "      <td>0.016641</td>\n",
       "      <td>-0.002264</td>\n",
       "      <td>0.013714</td>\n",
       "      <td>-0.009071</td>\n",
       "      <td>-0.006429</td>\n",
       "      <td>anekdot</td>\n",
       "    </tr>\n",
       "    <tr>\n",
       "      <th>4</th>\n",
       "      <td>0.017546</td>\n",
       "      <td>-0.029710</td>\n",
       "      <td>0.014734</td>\n",
       "      <td>0.006084</td>\n",
       "      <td>0.031617</td>\n",
       "      <td>0.020996</td>\n",
       "      <td>0.016895</td>\n",
       "      <td>-0.018471</td>\n",
       "      <td>-0.028365</td>\n",
       "      <td>-0.007889</td>\n",
       "      <td>...</td>\n",
       "      <td>0.066247</td>\n",
       "      <td>0.033964</td>\n",
       "      <td>-0.003239</td>\n",
       "      <td>0.056341</td>\n",
       "      <td>-0.000883</td>\n",
       "      <td>-0.006328</td>\n",
       "      <td>0.007141</td>\n",
       "      <td>-0.042952</td>\n",
       "      <td>0.004031</td>\n",
       "      <td>anekdot</td>\n",
       "    </tr>\n",
       "  </tbody>\n",
       "</table>\n",
       "<p>5 rows × 301 columns</p>\n",
       "</div>"
      ],
      "text/plain": [
       "          0         1         2         3         4         5         6  \\\n",
       "0 -0.005327 -0.002550 -0.012691  0.015691  0.009480 -0.000163  0.007628   \n",
       "1 -0.000636 -0.022139  0.006247  0.015691  0.007062  0.021689  0.003270   \n",
       "2 -0.020983 -0.024008  0.007685  0.018271  0.007318  0.033143  0.023785   \n",
       "3 -0.004453 -0.028444  0.007522  0.014499  0.020345  0.012675  0.006424   \n",
       "4  0.017546 -0.029710  0.014734  0.006084  0.031617  0.020996  0.016895   \n",
       "\n",
       "          7         8         9   ...          291       292       293  \\\n",
       "0 -0.023825  0.010015  0.004410   ...     0.003710  0.023587  0.014549   \n",
       "1 -0.011606  0.003766  0.015540   ...     0.045119  0.013040 -0.001982   \n",
       "2 -0.006739 -0.007860 -0.002580   ...     0.045904  0.012120 -0.019283   \n",
       "3 -0.008916 -0.002845  0.025336   ...     0.019075  0.016369 -0.000082   \n",
       "4 -0.018471 -0.028365 -0.007889   ...     0.066247  0.033964 -0.003239   \n",
       "\n",
       "        294       295       296       297       298       299    class  \n",
       "0  0.002639  0.012199  0.020589  0.017731 -0.013880 -0.003637  anekdot  \n",
       "1  0.008188  0.020509  0.004625  0.045025 -0.031724 -0.003661  anekdot  \n",
       "2  0.015308 -0.005188 -0.009700  0.009690 -0.025878 -0.007407  anekdot  \n",
       "3  0.012354  0.016641 -0.002264  0.013714 -0.009071 -0.006429  anekdot  \n",
       "4  0.056341 -0.000883 -0.006328  0.007141 -0.042952  0.004031  anekdot  \n",
       "\n",
       "[5 rows x 301 columns]"
      ]
     },
     "execution_count": 85,
     "metadata": {},
     "output_type": "execute_result"
    }
   ],
   "source": [
    "df.head()"
   ]
  },
  {
   "cell_type": "code",
   "execution_count": 83,
   "metadata": {
    "collapsed": true
   },
   "outputs": [],
   "source": [
    "df['class'] = ['anekdot' for _ in range(125)] + ['izvest' for _ in range(125)] + ['teh_mol' for _ in range(125)]"
   ]
  },
  {
   "cell_type": "markdown",
   "metadata": {},
   "source": [
    "Делим на трейн и тест"
   ]
  },
  {
   "cell_type": "code",
   "execution_count": 93,
   "metadata": {
    "collapsed": false
   },
   "outputs": [],
   "source": [
    "X_train, X_test, y_train, y_test = train_test_split(df.iloc[:,:300], df['class'], test_size=0.2)"
   ]
  },
  {
   "cell_type": "markdown",
   "metadata": {},
   "source": [
    "Обучаем форест"
   ]
  },
  {
   "cell_type": "code",
   "execution_count": 102,
   "metadata": {
    "collapsed": false
   },
   "outputs": [
    {
     "name": "stdout",
     "output_type": "stream",
     "text": [
      "       accuracy: 0.9466666666666667\n",
      "\n",
      "       f_scores:\n",
      "        anekdot: 0.9811320754716981\n",
      "         izvest: 0.9361702127659574\n",
      "        teh_mol: 0.9199999999999999\n"
     ]
    }
   ],
   "source": [
    "clf = RandomForestClassifier()\n",
    "clf.fit(X_train, y_train)\n",
    "y_pred = clf.predict(X_test)\n",
    "\n",
    "a = accuracy_score(y_test, y_pred)\n",
    "f = f1_score(y_test, y_pred, average=None)\n",
    "print('{:>15}: {}\\n'.format('accuracy', a))\n",
    "print('{:>15}:'.format('f_scores'))\n",
    "for cl, f_cl in zip(clf.classes_, f):\n",
    "    print('{:>15}: {}'.format(cl, f_cl))"
   ]
  },
  {
   "cell_type": "markdown",
   "metadata": {},
   "source": [
    "Результат, такой неплохой"
   ]
  }
 ],
 "metadata": {
  "kernelspec": {
   "display_name": "Python 3",
   "language": "python",
   "name": "python3"
  },
  "language_info": {
   "codemirror_mode": {
    "name": "ipython",
    "version": 3
   },
   "file_extension": ".py",
   "mimetype": "text/x-python",
   "name": "python",
   "nbconvert_exporter": "python",
   "pygments_lexer": "ipython3",
   "version": "3.5.2"
  }
 },
 "nbformat": 4,
 "nbformat_minor": 2
}
